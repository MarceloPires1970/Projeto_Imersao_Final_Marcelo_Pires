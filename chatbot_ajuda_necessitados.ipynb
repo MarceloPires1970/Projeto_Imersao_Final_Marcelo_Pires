{
  "nbformat": 4,
  "nbformat_minor": 0,
  "metadata": {
    "colab": {
      "provenance": [],
      "authorship_tag": "ABX9TyO1XzR9bnYEpft/jomBLffI",
      "include_colab_link": true
    },
    "kernelspec": {
      "name": "python3",
      "display_name": "Python 3"
    },
    "language_info": {
      "name": "python"
    }
  },
  "cells": [
    {
      "cell_type": "markdown",
      "metadata": {
        "id": "view-in-github",
        "colab_type": "text"
      },
      "source": [
        "<a href=\"https://colab.research.google.com/github/MarceloPires1970/Projeto_Imersao_Final_Marcelo_Pires/blob/main/chatbot_ajuda_necessitados.ipynb\" target=\"_parent\"><img src=\"https://colab.research.google.com/assets/colab-badge.svg\" alt=\"Open In Colab\"/></a>"
      ]
    },
    {
      "cell_type": "code",
      "execution_count": 4,
      "metadata": {
        "id": "2Io7cPo8omDy"
      },
      "outputs": [],
      "source": [
        "!pip install -q -U google-generativeai"
      ]
    },
    {
      "cell_type": "code",
      "source": [
        "import google.generativeai as genai\n",
        "from google.colab import userdata\n",
        "api_key = userdata.get (\"SECRET_KEY\")\n",
        "genai.configure(api_key=api_key)"
      ],
      "metadata": {
        "id": "kOQWD_RCos-G"
      },
      "execution_count": 5,
      "outputs": []
    },
    {
      "cell_type": "code",
      "source": [
        "#Lista de Pessoas Vulneráveis\n",
        "grupos_necessitados = {\n",
        "    \"Vítimas de catástrofes natuais\": [\"Doações (procure por doações seguras): Financeiras, alimentos, roupas, água, medicamentos etc.\", \"Voluntariado: Em ONGs, abrigos, hospitais\", \"Divulgação: Compartilhar informações confiáveis e formas de ajudar\"],\n",
        "    \"Crianças em situação de rua\": [\"Doar alimentos, roupas e materiais de higiene\", \"Apoiar ONGs que trabalham com crianças em situação de rua\", \"Incentivar políticas públicas de acolhimento e reinserção social\", \"Combater a exploração infantil e denunciar casos de abuso\"],\n",
        "    \"Idosos em situação de vulnerabilidade\": [\"Oferecer companhia, apoio emocional e auxílio em tarefas diárias\", \"Doar alimentos, medicamentos e materiais de higiene\", \"Apoiar instituições de longa permanência para idosos\", \"Lutar por políticas públicas que garantam o bem-estar e a dignidade dos idosos\"],\n",
        "    \"Animais\": [\"Adotar ou promover a adoção\", \"Doar ração e medicamentos\", \"Ser voluntário em abrigos de animais\", \"Denunciar maus tratos a autoridades\"],\n",
        "    \"Pessoas em situação de rua\": [\"Doar alimentos, cobertores e roupas para o frio\", \"Oferecer oportunidades de trabalho e capacitação profissional\", \"Apoiar abrigos e centros de acolhimento\", \"Lutar por políticas públicas de moradia e reinserção social\"],\n",
        "    \"Mulheres vítimas de violência doméstica\": [\"Oferecer apoio emocional e psicológico\", \"Ajudar a encontrar abrigos e casas de apoio\", \"Incentivar a denúncia e o acesso à justiça\", \"Lutar por políticas públicas de combate à violência contra a mulher\" \"Denuncie: 180 e 190\"],\n",
        "    \"Pessoas com deficiência\": [\"Lutar por acessibilidade em espaços públicos e privados\", \"Promover a inclusão social e o respeito às diferenças\", \"Apoiar instituições que trabalham com pessoas com deficiência\", \"Incentivar a contratação de pessoas com deficiência no mercado de trabalho\"],\n",
        "}"
      ],
      "metadata": {
        "id": "oJvLq25PozxG"
      },
      "execution_count": 24,
      "outputs": []
    },
    {
      "cell_type": "code",
      "source": [
        "#Print de interação\n",
        "print(\"Olá! 👋 Sou um CHATBOT que te orineta a encontrar formas de ajudar grupos necessitados. Abaixo listo alguns. Escolha, veja a resposta e parta para a ação. Eles agradecem\")\n",
        "\n",
        "def ajudar_necessitados():\n",
        "  while True:\n",
        "    print(\"----------------------------------------\")\n",
        "    print(\"Qual grupo você gostaria de ajudar? 🤔\")\n",
        "    for i, grupo in enumerate(grupos_necessitados):\n",
        "      print(f\"{i+1}. {grupo}\")\n",
        "\n",
        "    try:\n",
        "      escolha = int(input(\"Digite o número da opção: \")) - 1\n",
        "      if 0 <= escolha < len(grupos_necessitados):\n",
        "        grupo_escolhido = list(grupos_necessitados.keys())[escolha]\n",
        "        print(\"----------------------------------------\")\n",
        "        print(\"Que iniciativa legal! ✨ Aqui estão algumas formas de ajudar\", grupo_escolhido + \":\")\n",
        "        for forma in grupos_necessitados[grupo_escolhido]:\n",
        "          print(\"- \" + forma)\n",
        "\n",
        "        # Pergunta se o usuário quer continuar\n",
        "        continuar = input(\"Deseja pesquisar outro grupo? (s/n): \")\n",
        "        if continuar.lower() != 's':\n",
        "          break\n",
        "      else:\n",
        "        print(\"Opção inválida. 😔 Tente novamente.\")\n",
        "    except ValueError:\n",
        "      print(\"Por favor, digite um número.\")\n",
        "\n",
        "# Chama a função para iniciar a interação\n",
        "ajudar_necessitados()\n",
        "print(\"----------------------------------------\")\n",
        "print(\"Obrigado. Espero ter ajudado! Agora vamos agir. Eles agradecem 😄\")"
      ],
      "metadata": {
        "colab": {
          "base_uri": "https://localhost:8080/"
        },
        "id": "9likEB5kxaIw",
        "outputId": "e95f2513-fa91-4238-d628-b85b237a17e7"
      },
      "execution_count": null,
      "outputs": [
        {
          "output_type": "stream",
          "name": "stdout",
          "text": [
            "Olá! 👋 Sou um CHATBOT que te orineta a encontrar formas de ajudar grupos necessitados. Abaixo listo alguns. Escolha, veja a resposta e parta para a ação. Eles agradecem\n",
            "----------------------------------------\n",
            "Qual grupo você gostaria de ajudar? 🤔\n",
            "1. Vítimas de catástrofes natuais\n",
            "2. Crianças em situação de rua\n",
            "3. Idosos em situação de vulnerabilidade\n",
            "4. Animais\n",
            "5. Pessoas em situação de rua\n",
            "6. Mulheres vítimas de violência doméstica\n",
            "7. Pessoas com deficiência\n",
            "Digite o número da opção: 6\n",
            "----------------------------------------\n",
            "Que iniciativa legal! ✨ Aqui estão algumas formas de ajudar Mulheres vítimas de violência doméstica:\n",
            "- Oferecer apoio emocional e psicológico\n",
            "- Ajudar a encontrar abrigos e casas de apoio\n",
            "- Incentivar a denúncia e o acesso à justiça\n",
            "- Lutar por políticas públicas de combate à violência contra a mulherDenuncie: 180 e 190\n"
          ]
        }
      ]
    }
  ]
}